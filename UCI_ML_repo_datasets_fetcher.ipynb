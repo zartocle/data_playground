{
 "cells": [
  {
   "cell_type": "markdown",
   "id": "ff89923d",
   "metadata": {},
   "source": [
    "#### Get data from the UCI ML repository (watch out: it's *not always online*)\n",
    "\n",
    "[The repository website](https://archive.ics.uci.edu/datasets)"
   ]
  },
  {
   "cell_type": "code",
   "execution_count": 3,
   "id": "884a3094",
   "metadata": {},
   "outputs": [],
   "source": [
    "import ucimlrepo as uci_data"
   ]
  },
  {
   "cell_type": "code",
   "execution_count": 4,
   "id": "fc8e52e2",
   "metadata": {},
   "outputs": [
    {
     "name": "stdout",
     "output_type": "stream",
     "text": [
      "Help on package ucimlrepo:\n",
      "\n",
      "NAME\n",
      "    ucimlrepo\n",
      "\n",
      "PACKAGE CONTENTS\n",
      "    dotdict\n",
      "    fetch\n",
      "    test\n",
      "\n",
      "DATA\n",
      "    API_BASE_URL = 'https://archive.ics.uci.edu/api/dataset'\n",
      "    API_LIST_URL = 'https://archive.ics.uci.edu/api/datasets/list'\n",
      "    DATASET_FILE_BASE_URL = 'https://archive.ics.uci.edu/static/public'\n",
      "    Optional = typing.Optional\n",
      "        Optional[X] is equivalent to Union[X, None].\n",
      "\n",
      "    VALID_FILTERS = ['aim-ahead']\n",
      "\n",
      "FILE\n",
      "    /home/ale/git/main/ScienzaDati/sdati_venv/lib/python3.12/site-packages/ucimlrepo/__init__.py\n",
      "\n",
      "\n"
     ]
    }
   ],
   "source": [
    "help(uci_data)"
   ]
  },
  {
   "cell_type": "code",
   "execution_count": 5,
   "id": "9ac26ff8",
   "metadata": {},
   "outputs": [
    {
     "data": {
      "text/plain": [
       "['API_BASE_URL',\n",
       " 'API_LIST_URL',\n",
       " 'DATASET_FILE_BASE_URL',\n",
       " 'DatasetNotFoundError',\n",
       " 'Optional',\n",
       " 'VALID_FILTERS',\n",
       " '__builtins__',\n",
       " '__cached__',\n",
       " '__doc__',\n",
       " '__file__',\n",
       " '__loader__',\n",
       " '__name__',\n",
       " '__package__',\n",
       " '__path__',\n",
       " '__spec__',\n",
       " 'certifi',\n",
       " 'dotdict',\n",
       " 'fetch',\n",
       " 'fetch_ucirepo',\n",
       " 'json',\n",
       " 'list_available_datasets',\n",
       " 'pd',\n",
       " 'ssl',\n",
       " 'urllib']"
      ]
     },
     "execution_count": 5,
     "metadata": {},
     "output_type": "execute_result"
    }
   ],
   "source": [
    "dir(uci_data)"
   ]
  },
  {
   "cell_type": "code",
   "execution_count": null,
   "id": "58764fce",
   "metadata": {},
   "outputs": [
    {
     "ename": "DatasetNotFoundError",
     "evalue": "\"Traffic Flow Forecasting\" dataset (id=608) exists in the repository, but is not available for import. Please select a dataset from this list: https://archive.ics.uci.edu/datasets?skip=0&take=10&sort=desc&orderBy=NumHits&search=&Python=true",
     "output_type": "error",
     "traceback": [
      "\u001b[31m---------------------------------------------------------------------------\u001b[39m",
      "\u001b[31mDatasetNotFoundError\u001b[39m                      Traceback (most recent call last)",
      "\u001b[36mCell\u001b[39m\u001b[36m \u001b[39m\u001b[32mIn[10]\u001b[39m\u001b[32m, line 1\u001b[39m\n\u001b[32m----> \u001b[39m\u001b[32m1\u001b[39m \u001b[38;5;28mtype\u001b[39m(\u001b[43muci_data\u001b[49m\u001b[43m.\u001b[49m\u001b[43mfetch_ucirepo\u001b[49m\u001b[43m(\u001b[49m\u001b[38;5;28;43mid\u001b[39;49m\u001b[43m=\u001b[49m\u001b[32;43m608\u001b[39;49m\u001b[43m)\u001b[49m )\n\u001b[32m      2\u001b[39m \u001b[38;5;66;03m# uci_data.list_available_datasets()\u001b[39;00m\n",
      "\u001b[36mFile \u001b[39m\u001b[32m~/git/main/ScienzaDati/sdati_venv/lib/python3.12/site-packages/ucimlrepo/fetch.py:91\u001b[39m, in \u001b[36mfetch_ucirepo\u001b[39m\u001b[34m(name, id)\u001b[39m\n\u001b[32m     88\u001b[39m \u001b[38;5;66;03m# no data URL means that the dataset cannot be imported into Python\u001b[39;00m\n\u001b[32m     89\u001b[39m \u001b[38;5;66;03m# i.e. it does not yet have a standardized CSV file for pandas to parse\u001b[39;00m\n\u001b[32m     90\u001b[39m \u001b[38;5;28;01mif\u001b[39;00m \u001b[38;5;129;01mnot\u001b[39;00m data_url:\n\u001b[32m---> \u001b[39m\u001b[32m91\u001b[39m     \u001b[38;5;28;01mraise\u001b[39;00m DatasetNotFoundError(\u001b[33m'\u001b[39m\u001b[33m\"\u001b[39m\u001b[38;5;132;01m{}\u001b[39;00m\u001b[33m\"\u001b[39m\u001b[33m dataset (id=\u001b[39m\u001b[38;5;132;01m{}\u001b[39;00m\u001b[33m) exists in the repository, but is not available for import. Please select a dataset from this list: https://archive.ics.uci.edu/datasets?skip=0&take=10&sort=desc&orderBy=NumHits&search=&Python=true\u001b[39m\u001b[33m'\u001b[39m.format(name, \u001b[38;5;28mid\u001b[39m))\n\u001b[32m     94\u001b[39m \u001b[38;5;66;03m# parse into dataframe using pandas\u001b[39;00m\n\u001b[32m     95\u001b[39m df = \u001b[38;5;28;01mNone\u001b[39;00m\n",
      "\u001b[31mDatasetNotFoundError\u001b[39m: \"Traffic Flow Forecasting\" dataset (id=608) exists in the repository, but is not available for import. Please select a dataset from this list: https://archive.ics.uci.edu/datasets?skip=0&take=10&sort=desc&orderBy=NumHits&search=&Python=true"
     ]
    }
   ],
   "source": [
    "type(uci_data.fetch_ucirepo(id=492) )\n",
    "# uci_data.list_available_datasets()"
   ]
  },
  {
   "cell_type": "code",
   "execution_count": 7,
   "id": "75b89be4",
   "metadata": {},
   "outputs": [],
   "source": [
    "import pandas as pd\n",
    "\n",
    "dataset_dict_raw = uci_data.fetch_ucirepo(id=492)"
   ]
  },
  {
   "cell_type": "code",
   "execution_count": 18,
   "id": "1301ed1d",
   "metadata": {},
   "outputs": [],
   "source": [
    "dataset_pd = dataset_dict_raw['data']['features']\n",
    "target_pd = dataset_dict_raw['data']['targets']"
   ]
  },
  {
   "cell_type": "code",
   "execution_count": 24,
   "id": "81a46585",
   "metadata": {},
   "outputs": [],
   "source": [
    "dataset_pd_test = dataset_pd.copy()"
   ]
  },
  {
   "cell_type": "code",
   "execution_count": 49,
   "id": "855c0132",
   "metadata": {},
   "outputs": [
    {
     "data": {
      "text/html": [
       "<div>\n",
       "<style scoped>\n",
       "    .dataframe tbody tr th:only-of-type {\n",
       "        vertical-align: middle;\n",
       "    }\n",
       "\n",
       "    .dataframe tbody tr th {\n",
       "        vertical-align: top;\n",
       "    }\n",
       "\n",
       "    .dataframe thead th {\n",
       "        text-align: right;\n",
       "    }\n",
       "</style>\n",
       "<table border=\"1\" class=\"dataframe\">\n",
       "  <thead>\n",
       "    <tr style=\"text-align: right;\">\n",
       "      <th></th>\n",
       "      <th>holiday</th>\n",
       "      <th>temp</th>\n",
       "      <th>rain_1h</th>\n",
       "      <th>snow_1h</th>\n",
       "      <th>clouds_all</th>\n",
       "      <th>weather_main</th>\n",
       "      <th>weather_description</th>\n",
       "      <th>date_time</th>\n",
       "    </tr>\n",
       "  </thead>\n",
       "  <tbody>\n",
       "    <tr>\n",
       "      <th>0</th>\n",
       "      <td>NaN</td>\n",
       "      <td>288.28</td>\n",
       "      <td>0.0</td>\n",
       "      <td>0.0</td>\n",
       "      <td>40</td>\n",
       "      <td>Clouds</td>\n",
       "      <td>scattered clouds</td>\n",
       "      <td>2012-10-02 09:00:00</td>\n",
       "    </tr>\n",
       "    <tr>\n",
       "      <th>1</th>\n",
       "      <td>NaN</td>\n",
       "      <td>289.36</td>\n",
       "      <td>0.0</td>\n",
       "      <td>0.0</td>\n",
       "      <td>75</td>\n",
       "      <td>Clouds</td>\n",
       "      <td>broken clouds</td>\n",
       "      <td>2012-10-02 10:00:00</td>\n",
       "    </tr>\n",
       "    <tr>\n",
       "      <th>2</th>\n",
       "      <td>NaN</td>\n",
       "      <td>289.58</td>\n",
       "      <td>0.0</td>\n",
       "      <td>0.0</td>\n",
       "      <td>90</td>\n",
       "      <td>Clouds</td>\n",
       "      <td>overcast clouds</td>\n",
       "      <td>2012-10-02 11:00:00</td>\n",
       "    </tr>\n",
       "    <tr>\n",
       "      <th>3</th>\n",
       "      <td>NaN</td>\n",
       "      <td>290.13</td>\n",
       "      <td>0.0</td>\n",
       "      <td>0.0</td>\n",
       "      <td>90</td>\n",
       "      <td>Clouds</td>\n",
       "      <td>overcast clouds</td>\n",
       "      <td>2012-10-02 12:00:00</td>\n",
       "    </tr>\n",
       "    <tr>\n",
       "      <th>4</th>\n",
       "      <td>NaN</td>\n",
       "      <td>291.14</td>\n",
       "      <td>0.0</td>\n",
       "      <td>0.0</td>\n",
       "      <td>75</td>\n",
       "      <td>Clouds</td>\n",
       "      <td>broken clouds</td>\n",
       "      <td>2012-10-02 13:00:00</td>\n",
       "    </tr>\n",
       "    <tr>\n",
       "      <th>...</th>\n",
       "      <td>...</td>\n",
       "      <td>...</td>\n",
       "      <td>...</td>\n",
       "      <td>...</td>\n",
       "      <td>...</td>\n",
       "      <td>...</td>\n",
       "      <td>...</td>\n",
       "      <td>...</td>\n",
       "    </tr>\n",
       "    <tr>\n",
       "      <th>48199</th>\n",
       "      <td>NaN</td>\n",
       "      <td>283.45</td>\n",
       "      <td>0.0</td>\n",
       "      <td>0.0</td>\n",
       "      <td>75</td>\n",
       "      <td>Clouds</td>\n",
       "      <td>broken clouds</td>\n",
       "      <td>2018-09-30 19:00:00</td>\n",
       "    </tr>\n",
       "    <tr>\n",
       "      <th>48200</th>\n",
       "      <td>NaN</td>\n",
       "      <td>282.76</td>\n",
       "      <td>0.0</td>\n",
       "      <td>0.0</td>\n",
       "      <td>90</td>\n",
       "      <td>Clouds</td>\n",
       "      <td>overcast clouds</td>\n",
       "      <td>2018-09-30 20:00:00</td>\n",
       "    </tr>\n",
       "    <tr>\n",
       "      <th>48201</th>\n",
       "      <td>NaN</td>\n",
       "      <td>282.73</td>\n",
       "      <td>0.0</td>\n",
       "      <td>0.0</td>\n",
       "      <td>90</td>\n",
       "      <td>Thunderstorm</td>\n",
       "      <td>proximity thunderstorm</td>\n",
       "      <td>2018-09-30 21:00:00</td>\n",
       "    </tr>\n",
       "    <tr>\n",
       "      <th>48202</th>\n",
       "      <td>NaN</td>\n",
       "      <td>282.09</td>\n",
       "      <td>0.0</td>\n",
       "      <td>0.0</td>\n",
       "      <td>90</td>\n",
       "      <td>Clouds</td>\n",
       "      <td>overcast clouds</td>\n",
       "      <td>2018-09-30 22:00:00</td>\n",
       "    </tr>\n",
       "    <tr>\n",
       "      <th>48203</th>\n",
       "      <td>NaN</td>\n",
       "      <td>282.12</td>\n",
       "      <td>0.0</td>\n",
       "      <td>0.0</td>\n",
       "      <td>90</td>\n",
       "      <td>Clouds</td>\n",
       "      <td>overcast clouds</td>\n",
       "      <td>2018-09-30 23:00:00</td>\n",
       "    </tr>\n",
       "  </tbody>\n",
       "</table>\n",
       "<p>48204 rows × 8 columns</p>\n",
       "</div>"
      ],
      "text/plain": [
       "      holiday    temp  rain_1h  snow_1h  clouds_all  weather_main  \\\n",
       "0         NaN  288.28      0.0      0.0          40        Clouds   \n",
       "1         NaN  289.36      0.0      0.0          75        Clouds   \n",
       "2         NaN  289.58      0.0      0.0          90        Clouds   \n",
       "3         NaN  290.13      0.0      0.0          90        Clouds   \n",
       "4         NaN  291.14      0.0      0.0          75        Clouds   \n",
       "...       ...     ...      ...      ...         ...           ...   \n",
       "48199     NaN  283.45      0.0      0.0          75        Clouds   \n",
       "48200     NaN  282.76      0.0      0.0          90        Clouds   \n",
       "48201     NaN  282.73      0.0      0.0          90  Thunderstorm   \n",
       "48202     NaN  282.09      0.0      0.0          90        Clouds   \n",
       "48203     NaN  282.12      0.0      0.0          90        Clouds   \n",
       "\n",
       "          weather_description            date_time  \n",
       "0            scattered clouds  2012-10-02 09:00:00  \n",
       "1               broken clouds  2012-10-02 10:00:00  \n",
       "2             overcast clouds  2012-10-02 11:00:00  \n",
       "3             overcast clouds  2012-10-02 12:00:00  \n",
       "4               broken clouds  2012-10-02 13:00:00  \n",
       "...                       ...                  ...  \n",
       "48199           broken clouds  2018-09-30 19:00:00  \n",
       "48200         overcast clouds  2018-09-30 20:00:00  \n",
       "48201  proximity thunderstorm  2018-09-30 21:00:00  \n",
       "48202         overcast clouds  2018-09-30 22:00:00  \n",
       "48203         overcast clouds  2018-09-30 23:00:00  \n",
       "\n",
       "[48204 rows x 8 columns]"
      ]
     },
     "execution_count": 49,
     "metadata": {},
     "output_type": "execute_result"
    }
   ],
   "source": [
    "dataset_pd_test"
   ]
  },
  {
   "cell_type": "code",
   "execution_count": 57,
   "id": "6744c9f2",
   "metadata": {},
   "outputs": [
    {
     "ename": "TypeError",
     "evalue": "descriptor 'isoweekday' for 'datetime.date' objects doesn't apply to a 'str' object",
     "output_type": "error",
     "traceback": [
      "\u001b[31m---------------------------------------------------------------------------\u001b[39m",
      "\u001b[31mTypeError\u001b[39m                                 Traceback (most recent call last)",
      "\u001b[36mCell\u001b[39m\u001b[36m \u001b[39m\u001b[32mIn[57]\u001b[39m\u001b[32m, line 1\u001b[39m\n\u001b[32m----> \u001b[39m\u001b[32m1\u001b[39m \u001b[43mdt\u001b[49m\u001b[43m.\u001b[49m\u001b[43misoweekday\u001b[49m\u001b[43m(\u001b[49m\u001b[33;43m'\u001b[39;49m\u001b[33;43mmonday\u001b[39;49m\u001b[33;43m'\u001b[39;49m\u001b[43m)\u001b[49m\n",
      "\u001b[31mTypeError\u001b[39m: descriptor 'isoweekday' for 'datetime.date' objects doesn't apply to a 'str' object"
     ]
    }
   ],
   "source": [
    "dt.isoweekday('monday')"
   ]
  },
  {
   "cell_type": "code",
   "execution_count": null,
   "id": "be600224",
   "metadata": {},
   "outputs": [],
   "source": [
    "from datetime import datetime as dt\n",
    "\n",
    "dataset_pd_test['datetime_obj'] = pd.to_datetime(dataset_pd_test['date_time'])"
   ]
  },
  {
   "cell_type": "code",
   "execution_count": 52,
   "id": "7fe79111",
   "metadata": {},
   "outputs": [],
   "source": [
    "dataset_pd_test['hour'] = dataset_pd_test['datetime_obj'].dt.time"
   ]
  },
  {
   "cell_type": "code",
   "execution_count": 58,
   "id": "447d9b58",
   "metadata": {},
   "outputs": [
    {
     "ename": "AttributeError",
     "evalue": "'Series' object has no attribute 'date'",
     "output_type": "error",
     "traceback": [
      "\u001b[31m---------------------------------------------------------------------------\u001b[39m",
      "\u001b[31mAttributeError\u001b[39m                            Traceback (most recent call last)",
      "\u001b[32m/tmp/ipykernel_16459/523234070.py\u001b[39m in \u001b[36m?\u001b[39m\u001b[34m()\u001b[39m\n\u001b[32m----> \u001b[39m\u001b[32m1\u001b[39m dataset_pd_test[\u001b[33m'day_of_week'\u001b[39m] = dt.isoweekday(dataset_pd_test[\u001b[33m'datetime_obj'\u001b[39m].date() )\n",
      "\u001b[32m~/git/main/ScienzaDati/sdati_venv/lib/python3.12/site-packages/pandas/core/generic.py\u001b[39m in \u001b[36m?\u001b[39m\u001b[34m(self, name)\u001b[39m\n\u001b[32m   6295\u001b[39m             \u001b[38;5;28;01mand\u001b[39;00m name \u001b[38;5;28;01mnot\u001b[39;00m \u001b[38;5;28;01min\u001b[39;00m self._accessors\n\u001b[32m   6296\u001b[39m             \u001b[38;5;28;01mand\u001b[39;00m self._info_axis._can_hold_identifiers_and_holds_name(name)\n\u001b[32m   6297\u001b[39m         ):\n\u001b[32m   6298\u001b[39m             \u001b[38;5;28;01mreturn\u001b[39;00m self[name]\n\u001b[32m-> \u001b[39m\u001b[32m6299\u001b[39m         \u001b[38;5;28;01mreturn\u001b[39;00m object.__getattribute__(self, name)\n",
      "\u001b[31mAttributeError\u001b[39m: 'Series' object has no attribute 'date'"
     ]
    }
   ],
   "source": [
    "dataset_pd_test['day_of_week'] = dt.isoweekday(dataset_pd_test['datetime_obj'].date() )"
   ]
  },
  {
   "cell_type": "code",
   "execution_count": 31,
   "id": "8ea57bf2",
   "metadata": {},
   "outputs": [
    {
     "data": {
      "text/plain": [
       "datetime.datetime(2025, 4, 14, 23, 24, 34, 776586)"
      ]
     },
     "execution_count": 31,
     "metadata": {},
     "output_type": "execute_result"
    }
   ],
   "source": [
    "dt.now()"
   ]
  },
  {
   "cell_type": "code",
   "execution_count": 48,
   "id": "d5ad7762",
   "metadata": {},
   "outputs": [
    {
     "data": {
      "text/plain": [
       "'23:26:00'"
      ]
     },
     "execution_count": 48,
     "metadata": {},
     "output_type": "execute_result"
    }
   ],
   "source": [
    "dt.time(dt.now()).strftime('%H:%M:%S')"
   ]
  },
  {
   "cell_type": "code",
   "execution_count": null,
   "id": "f0b921e7",
   "metadata": {},
   "outputs": [],
   "source": []
  }
 ],
 "metadata": {
  "kernelspec": {
   "display_name": "sdati_venv",
   "language": "python",
   "name": "python3"
  },
  "language_info": {
   "codemirror_mode": {
    "name": "ipython",
    "version": 3
   },
   "file_extension": ".py",
   "mimetype": "text/x-python",
   "name": "python",
   "nbconvert_exporter": "python",
   "pygments_lexer": "ipython3",
   "version": "3.12.7"
  }
 },
 "nbformat": 4,
 "nbformat_minor": 5
}
