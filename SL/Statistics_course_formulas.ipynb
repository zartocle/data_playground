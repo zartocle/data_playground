{
 "cells": [
  {
   "cell_type": "markdown",
   "metadata": {},
   "source": [
    "## Esercizi per il corso di statistica di Krista King"
   ]
  },
  {
   "cell_type": "code",
   "execution_count": 1,
   "metadata": {},
   "outputs": [],
   "source": [
    "import statistics as stat\n",
    "N = (3.2,3.5,3.8,4.2,4.5)\n",
    "n = 2"
   ]
  },
  {
   "cell_type": "code",
   "execution_count": 2,
   "metadata": {},
   "outputs": [
    {
     "data": {
      "text/plain": [
       "3.84"
      ]
     },
     "execution_count": 2,
     "metadata": {},
     "output_type": "execute_result"
    }
   ],
   "source": [
    "stat.mean(N)"
   ]
  },
  {
   "cell_type": "code",
   "execution_count": 3,
   "metadata": {},
   "outputs": [
    {
     "data": {
      "text/plain": [
       "5"
      ]
     },
     "execution_count": 3,
     "metadata": {},
     "output_type": "execute_result"
    }
   ],
   "source": [
    "population_size = len(N)\n",
    "population_size"
   ]
  },
  {
   "cell_type": "code",
   "execution_count": 4,
   "metadata": {},
   "outputs": [
    {
     "data": {
      "text/plain": [
       "[[3.2, 3.2],\n",
       " [3.2, 3.5],\n",
       " [3.2, 3.8],\n",
       " [3.2, 4.2],\n",
       " [3.2, 4.5],\n",
       " [3.5, 3.2],\n",
       " [3.5, 3.5],\n",
       " [3.5, 3.8],\n",
       " [3.5, 4.2],\n",
       " [3.5, 4.5],\n",
       " [3.8, 3.2],\n",
       " [3.8, 3.5],\n",
       " [3.8, 3.8],\n",
       " [3.8, 4.2],\n",
       " [3.8, 4.5],\n",
       " [4.2, 3.2],\n",
       " [4.2, 3.5],\n",
       " [4.2, 3.8],\n",
       " [4.2, 4.2],\n",
       " [4.2, 4.5],\n",
       " [4.5, 3.2],\n",
       " [4.5, 3.5],\n",
       " [4.5, 3.8],\n",
       " [4.5, 4.2],\n",
       " [4.5, 4.5]]"
      ]
     },
     "execution_count": 4,
     "metadata": {},
     "output_type": "execute_result"
    }
   ],
   "source": [
    "# calculate all possible samples given N and n\n",
    "samples_list = []\n",
    "for el1 in N:\n",
    "    for el2 in N:\n",
    "        samples_list.append([el1, el2])\n",
    "\n",
    "samples_list\n"
   ]
  },
  {
   "cell_type": "code",
   "execution_count": 5,
   "metadata": {},
   "outputs": [],
   "source": [
    "# Calculate the samples means:\n",
    "def calculate_means( samples_list ):\n",
    "    import statistics as stat\n",
    "\n",
    "    means_list = []\n",
    "    for sample in samples_list:\n",
    "        means_list.append( stat.mean( sample ))\n",
    "    return means_list "
   ]
  },
  {
   "cell_type": "code",
   "execution_count": 6,
   "metadata": {},
   "outputs": [],
   "source": [
    "samples_means = calculate_means(samples_list)"
   ]
  },
  {
   "cell_type": "code",
   "execution_count": 7,
   "metadata": {},
   "outputs": [
    {
     "data": {
      "text/plain": [
       "3.84"
      ]
     },
     "execution_count": 7,
     "metadata": {},
     "output_type": "execute_result"
    }
   ],
   "source": [
    "samples_means_mean = stat.mean(samples_means)\n",
    "samples_means_mean"
   ]
  },
  {
   "cell_type": "code",
   "execution_count": 8,
   "metadata": {},
   "outputs": [
    {
     "data": {
      "text/plain": [
       "[3.2,\n",
       " 3.35,\n",
       " 3.5,\n",
       " 3.7,\n",
       " 3.85,\n",
       " 3.35,\n",
       " 3.5,\n",
       " 3.65,\n",
       " 3.85,\n",
       " 4.0,\n",
       " 3.5,\n",
       " 3.65,\n",
       " 3.8,\n",
       " 4.0,\n",
       " 4.15,\n",
       " 3.7,\n",
       " 3.85,\n",
       " 4.0,\n",
       " 4.2,\n",
       " 4.35,\n",
       " 3.85,\n",
       " 4.0,\n",
       " 4.15,\n",
       " 4.35,\n",
       " 4.5]"
      ]
     },
     "execution_count": 8,
     "metadata": {},
     "output_type": "execute_result"
    }
   ],
   "source": [
    "samples_means"
   ]
  },
  {
   "cell_type": "code",
   "execution_count": 9,
   "metadata": {},
   "outputs": [],
   "source": [
    "# Calcola la varianza: sommatoria del quadrato degli scarti, diviso la popolazione\n",
    "def calculate_variance( input_list:list ):\n",
    "    pop_mean = stat.mean( input_list )\n",
    "    deviations_list = [ x - pop_mean for x in input_list]\n",
    "    squared_deviations_list = [ x*x for x in deviations_list]\n",
    "    variance = sum(squared_deviations_list)/len(input_list)\n",
    "    return round(variance,3)\n"
   ]
  },
  {
   "cell_type": "code",
   "execution_count": 10,
   "metadata": {},
   "outputs": [
    {
     "data": {
      "text/plain": [
       "0.109"
      ]
     },
     "execution_count": 10,
     "metadata": {},
     "output_type": "execute_result"
    }
   ],
   "source": [
    "calculate_variance( samples_means )"
   ]
  },
  {
   "cell_type": "code",
   "execution_count": 15,
   "metadata": {},
   "outputs": [],
   "source": [
    "import math\n",
    "def calculate_standard_deviation( variance_value:float ):\n",
    "    ''' Calculated the standard deviation starting from variance'''\n",
    "    return round(math.sqrt( variance_value ),4)\n"
   ]
  },
  {
   "cell_type": "code",
   "execution_count": 16,
   "metadata": {},
   "outputs": [
    {
     "data": {
      "text/plain": [
       "0.3302"
      ]
     },
     "execution_count": 16,
     "metadata": {},
     "output_type": "execute_result"
    }
   ],
   "source": [
    "calculate_standard_deviation(calculate_variance(samples_means))"
   ]
  },
  {
   "cell_type": "code",
   "execution_count": null,
   "metadata": {},
   "outputs": [],
   "source": []
  }
 ],
 "metadata": {
  "kernelspec": {
   "display_name": "Python 3",
   "language": "python",
   "name": "python3"
  },
  "language_info": {
   "codemirror_mode": {
    "name": "ipython",
    "version": 3
   },
   "file_extension": ".py",
   "mimetype": "text/x-python",
   "name": "python",
   "nbconvert_exporter": "python",
   "pygments_lexer": "ipython3",
   "version": "3.11.11"
  }
 },
 "nbformat": 4,
 "nbformat_minor": 2
}
