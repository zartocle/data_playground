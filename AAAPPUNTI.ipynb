{
 "cells": [
  {
   "cell_type": "markdown",
   "id": "8013a4d2",
   "metadata": {},
   "source": [
    "### 1. crea un venv ( [qui](https://janakiev.com/blog/jupyter-virtual-envs/#add-virtual-environment-to-jupyter-notebook) guida a come usarlo con Jupyter)\n",
    "\n",
    "Poi installa questo:\n",
    "\n",
    "`pip install ipykernel pandas xlrd`"
   ]
  },
  {
   "cell_type": "markdown",
   "id": "04db492f-d6a0-4579-a158-49c160d49294",
   "metadata": {},
   "source": [
    "## PANDAS"
   ]
  },
  {
   "cell_type": "markdown",
   "id": "814da020-35d5-4cb1-b5e3-019b03810941",
   "metadata": {},
   "source": [
    "[Scikit Learn: fantastica libreria di dataset](https://scikit-learn.org/stable/index.html), pronti per essere usati a fini di studio"
   ]
  },
  {
   "cell_type": "markdown",
   "id": "a1410ca3-a8f9-4b24-97f3-4e39e77ef0ed",
   "metadata": {},
   "source": [
    "#### Basi di EDA"
   ]
  },
  {
   "cell_type": "code",
   "execution_count": 2,
   "id": "6516811c-6290-4fc4-8775-9b70a48c2af0",
   "metadata": {},
   "outputs": [],
   "source": [
    "datiuni=pd.read_csv('/home/ale/git/main/ScienzaDati/DCIS_LAUREATI_30102022091419431.csv')"
   ]
  },
  {
   "cell_type": "code",
   "execution_count": 1,
   "id": "42723071-a952-4df5-8a0d-46227d482ec5",
   "metadata": {},
   "outputs": [
    {
     "ename": "NameError",
     "evalue": "name 'datiuni' is not defined",
     "output_type": "error",
     "traceback": [
      "\u001B[0;31m---------------------------------------------------------------------------\u001B[0m",
      "\u001B[0;31mNameError\u001B[0m                                 Traceback (most recent call last)",
      "\u001B[0;32m/tmp/ipykernel_12410/100884993.py\u001B[0m in \u001B[0;36m<module>\u001B[0;34m\u001B[0m\n\u001B[1;32m      1\u001B[0m \u001B[0;31m# Mostra l'inizio del dataset\u001B[0m\u001B[0;34m\u001B[0m\u001B[0;34m\u001B[0m\u001B[0m\n\u001B[0;32m----> 2\u001B[0;31m \u001B[0mdatiuni\u001B[0m\u001B[0;34m.\u001B[0m\u001B[0mhead\u001B[0m\u001B[0;34m(\u001B[0m\u001B[0;34m)\u001B[0m\u001B[0;34m\u001B[0m\u001B[0;34m\u001B[0m\u001B[0m\n\u001B[0m\u001B[1;32m      3\u001B[0m \u001B[0;31m# Mostra la forma del dataset\u001B[0m\u001B[0;34m\u001B[0m\u001B[0;34m\u001B[0m\u001B[0m\n\u001B[1;32m      4\u001B[0m \u001B[0mdatiuni\u001B[0m\u001B[0;34m.\u001B[0m\u001B[0minfo\u001B[0m\u001B[0;34m(\u001B[0m\u001B[0;34m)\u001B[0m\u001B[0;34m\u001B[0m\u001B[0;34m\u001B[0m\u001B[0m\n",
      "\u001B[0;31mNameError\u001B[0m: name 'datiuni' is not defined"
     ]
    }
   ],
   "source": [
    "# Mostra l'inizio del dataset\n",
    "datiuni.head()\n",
    "# Mostra le caratteristiche principali del dataset\n",
    "datiuni.info()\n",
    "# Mostra la forma del dataset\n",
    "datiuni.shape\n",
    "# Mostra i valori delle metriche fondamentali per osservare i valori: media, min, max, percentili \n",
    "datiuni.describe\n",
    "# Restituisce i valori mancanti per ogni colonna\n",
    "datiuni.isnull().sum()\n",
    "# Mostra i valori unici per ogni colonna\n",
    "traffic_data['weather_description'].nunique()\n",
    "# Mostra il numero di valori unici (deduplicati) per ogni colonna\n",
    "datiuni.nunique()\n",
    "# Mostra i nomi delle colonne\n",
    "datiuni.columns\n",
    "# Mostra gli N record aventi valore di COLONNA piu' alto\n",
    "datiuni.nlargest(6,'Value')\n",
    "# Restituisce un df avente valori booleani che indicano se il tale valore e' o meno NULL\n",
    "datiuni.isna()\n",
    "# Restituisce il numero di record duplicati\n",
    "datiuni.duplicated().sum()\n",
    "# Ottieni un elenco dei possibili valori della colonna, ORDINATI IN ORDINE DECRESCENTE DI FREQUENZA\n",
    "datiuni['Regione della sede didattica'].value_counts()\n",
    "# Aggrega in base ad alcune colonne e sommane altre\n",
    "datiuni.groupby(['Tipo dato','Sesso']).agg({'Value':'sum','Value2':'sum'})\n",
    "# Calcola la correlazione tra ogni variable e tutte le altre\n",
    "# Rinomina una colonna del dataframe\n",
    "df.rename(columns={'od280/od315_of_diluted_wines':'protein_concentration'},inplace=True)"
   ]
  },
  {
   "cell_type": "code",
   "execution_count": null,
   "id": "67c9a2c6-35ef-4437-9b96-7af7ed3562e3",
   "metadata": {},
   "outputs": [],
   "source": [
    "# Formattare float number (impostazione globale)\n",
    "pd.options.display.float_format = '{:,.2f}'.format\n",
    "# Formattare in modo specifico UN SOLO DF: crea una nuova colonna in cui converti a string i numeri \n",
    "df['cost'] = df['cost'].map('€{:,.2f}'.format)"
   ]
  },
  {
   "cell_type": "markdown",
   "id": "58ed8a4f-ab8a-48aa-9b77-160737846119",
   "metadata": {},
   "source": [
    "### Il modulo pandas profiling 📢\n",
    "\n",
    "Si tratta di un modulo in grado di elaborare una analisi MOLTO DETTAGLIATA del dataframe, restituendo una mole notevole di metriche di ogni tipo.\n",
    "\n",
    "Molto facile da usare, [la documentazione e' QUI](https://pandas-profiling.ydata.ai/docs/master/pages/getting_started/overview.html)"
   ]
  },
  {
   "cell_type": "code",
   "execution_count": null,
   "id": "888ab179-27b8-468e-bbf7-ae2974b72db4",
   "metadata": {},
   "outputs": [],
   "source": [
    "pip install pandas-profiling\n",
    "\n",
    "from pandas_profiling import ProfileReport\n",
    "report = ProfileReport(df)\n",
    "report\n",
    "\n",
    "# In caso ricevessi errori nel tentare di avviarlo, aggiorna ipython widgets:\n",
    "pip install -U ipywidgets"
   ]
  },
  {
   "cell_type": "markdown",
   "id": "14845906-e324-4a19-9298-67738d5c8165",
   "metadata": {},
   "source": [
    "#### Kurtosis & Skewness"
   ]
  },
  {
   "cell_type": "code",
   "execution_count": null,
   "id": "0ab2d4e2-51cb-4a53-83d3-c80d3a40828c",
   "metadata": {},
   "outputs": [],
   "source": [
    "print(f\"kurtosis: {df['magnesium'].kurt()}\")\n",
    "print(f\"skewness: {df['magnesium'].skew()}\")"
   ]
  },
  {
   "cell_type": "markdown",
   "id": "31d9681a-a815-4eb9-86f7-674c12cfaeb5",
   "metadata": {},
   "source": [
    "SKEWNESS: Skewness is a measure of **asymmetry** of a distribution. Another measure that describes the shape of a distribution is kurtosis.\n",
    "In a normal distribution, the mean divides the curve symmetrically into two equal parts at the median and the value of skewness is zero.\n",
    "\n",
    "KURTOSIS: It is common to compare the excess kurtosis of a distribution to 0, which is the excess kurtosis of any univariate normal distribution. Distributions with negative excess kurtosis are said to be platykurtic, which means the distribution produces fewer and/or less extreme outliers than the normal distribution. An example of a platykurtic distribution is the uniform distribution, which does not produce outliers. Distributions with a positive excess kurtosis are said to be leptokurtic. An example of a leptokurtic distribution is the Laplace distribution, which has tails that asymptotically approach zero more slowly than a Gaussian, and therefore produces more outliers than the normal distribution. It is common practice to use excess kurtosis, which is defined as Pearson's kurtosis minus 3, to provide a simple comparison to the normal distribution. Some authors and software packages use \"kurtosis\" by itself to refer to the excess kurtosis."
   ]
  },
  {
   "cell_type": "markdown",
   "id": "93959020-3460-4aa2-b06f-0d0bd6619e20",
   "metadata": {},
   "source": [
    "### Grafici"
   ]
  },
  {
   "cell_type": "markdown",
   "id": "daec284c-141a-43d3-bb43-58e604e921b0",
   "metadata": {},
   "source": [
    "Ci sono diverse tecniche & strumenti per disegnare grafici partendo da Pandas: **il concetto fondamentale da tenere sempre a mente**, tuttavia, è che \n",
    "ogni grafico parte da una astrazione sottostante basata su una rappresentazione numerica. I vari tool non fanno altro che \"decorare\" questa rappresentazione\n",
    "aggiungendo dettagli e formattazione.\n",
    "\n",
    "Infatti, Pandas è da solo perfettamente in grado di creare grafici:"
   ]
  },
  {
   "cell_type": "code",
   "execution_count": 2,
   "id": "d4a799da-d613-47df-ab4c-0d1ced4260b0",
   "metadata": {},
   "outputs": [
    {
     "ename": "NameError",
     "evalue": "name 'df' is not defined",
     "output_type": "error",
     "traceback": [
      "\u001B[0;31m---------------------------------------------------------------------------\u001B[0m",
      "\u001B[0;31mNameError\u001B[0m                                 Traceback (most recent call last)",
      "\u001B[0;32m/tmp/ipykernel_29840/3691909488.py\u001B[0m in \u001B[0;36m<module>\u001B[0;34m\u001B[0m\n\u001B[0;32m----> 1\u001B[0;31m \u001B[0mdf\u001B[0m\u001B[0;34m.\u001B[0m\u001B[0mmagnesium\u001B[0m\u001B[0;34m.\u001B[0m\u001B[0mvalue_counts\u001B[0m\u001B[0;34m(\u001B[0m\u001B[0mbins\u001B[0m\u001B[0;34m=\u001B[0m\u001B[0;36m10\u001B[0m\u001B[0;34m)\u001B[0m\u001B[0;34m.\u001B[0m\u001B[0mplot\u001B[0m\u001B[0;34m(\u001B[0m\u001B[0mkind\u001B[0m\u001B[0;34m=\u001B[0m\u001B[0;34m'bar'\u001B[0m\u001B[0;34m)\u001B[0m\u001B[0;34m\u001B[0m\u001B[0;34m\u001B[0m\u001B[0m\n\u001B[0m",
      "\u001B[0;31mNameError\u001B[0m: name 'df' is not defined"
     ]
    }
   ],
   "source": [
    "df.magnesium.value_counts(bins=10).plot(kind='bar')"
   ]
  },
  {
   "cell_type": "code",
   "execution_count": null,
   "id": "4671cd8f-b619-4fb1-b97b-ab521df15c31",
   "metadata": {},
   "outputs": [],
   "source": [
    "# Disegna una heatmap a partire dalle correlazioni tra variabili\n",
    "corrmat = df.corr()\n",
    "hm = sns.heatmap(corrmat, \n",
    "                 cbar=True, \n",
    "                 annot=True, \n",
    "                 square=True, \n",
    "                 fmt='.2f', \n",
    "                 annot_kws={'size': 10}, \n",
    "                 yticklabels=df.columns, \n",
    "                 xticklabels=df.columns, \n",
    "                 cmap=\"Spectral_r\")\n",
    "plt.show()"
   ]
  },
  {
   "cell_type": "code",
   "execution_count": null,
   "metadata": {},
   "outputs": [],
   "source": [
    "# Generare numeri casuali\n",
    "import numpy as np\n",
    "\n",
    "from numpy.random import default_rng\n",
    "\n",
    "rg = default_rng(12345)\n",
    "# Nel codice sopra, '12345' e' il seed; non e' obbligatorio, ma settando un valore il generatore restituira' sempre gli stessi numeri"
   ],
   "id": "2a89150061fb1d77"
  },
  {
   "cell_type": "code",
   "execution_count": null,
   "id": "33f39c8f-8868-4296-8ddb-79bfde1a71c9",
   "metadata": {},
   "outputs": [],
   "source": [
    "# Cercare relazioni tra variabili: pairplot disegna scatterplot per OGNI VARIABILE CONTRO TUTTE LE ALTRE\n",
    "sns.pairplot(df)"
   ]
  },
  {
   "cell_type": "markdown",
   "id": "147925f6-4aca-43e0-8e2f-c605ad2088de",
   "metadata": {},
   "source": [
    "### Statistica\n",
    "\n",
    "* Mean (media):      il valore medio o somma dei valori osservati divisa per il loro numero\n",
    "\n",
    "Una serie puo' avere una o piu' mode: se ad esempio ne ha due, viene detta BIMODALE\n",
    "* Median (mediana):  il valore dell'osservazione centrale, individuato ordinando gli elementi in ordine crescente\n",
    "* Mode (moda):       il valore the ricorre piu' spesso nella distribuzione\n",
    "* InterQuartile range (IQR): measures the spread of the middle half of the data\n",
    "\n",
    "Use the IQR to assess the variability where most of your values lie. Larger values indicate that the central portion of your data spread out further. Conversely, smaller values show that the middle values cluster more tightly"
   ]
  }
 ],
 "metadata": {
  "kernelspec": {
   "display_name": "Python 3 (ipykernel)",
   "language": "python",
   "name": "python3"
  },
  "language_info": {
   "codemirror_mode": {
    "name": "ipython",
    "version": 3
   },
   "file_extension": ".py",
   "mimetype": "text/x-python",
   "name": "python",
   "nbconvert_exporter": "python",
   "pygments_lexer": "ipython3",
   "version": "3.10.7"
  }
 },
 "nbformat": 4,
 "nbformat_minor": 5
}
