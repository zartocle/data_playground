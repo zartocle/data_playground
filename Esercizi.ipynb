{
 "cells": [
  {
   "cell_type": "code",
   "execution_count": 1,
   "metadata": {},
   "outputs": [
    {
     "data": {
      "text/plain": [
       "'/home/ale/.ipython/profile_default/startup'"
      ]
     },
     "execution_count": 1,
     "metadata": {},
     "output_type": "execute_result"
    }
   ],
   "source": [
    "# Script di avvio sta in:\n",
    "get_ipython().profile_dir.startup_dir"
   ]
  },
  {
   "cell_type": "code",
   "execution_count": 2,
   "metadata": {},
   "outputs": [],
   "source": [
    "matrix_a=np.array([[1,0,0,3,1],[3,6,6,2,9],[4,5,3,8,0]])"
   ]
  },
  {
   "cell_type": "code",
   "execution_count": 3,
   "metadata": {},
   "outputs": [
    {
     "data": {
      "text/plain": [
       "array([[1, 0, 0, 3, 1],\n",
       "       [3, 6, 6, 2, 9],\n",
       "       [4, 5, 3, 8, 0]])"
      ]
     },
     "execution_count": 3,
     "metadata": {},
     "output_type": "execute_result"
    }
   ],
   "source": [
    "matrix_a"
   ]
  },
  {
   "cell_type": "code",
   "execution_count": 4,
   "metadata": {},
   "outputs": [
    {
     "data": {
      "text/plain": [
       "9"
      ]
     },
     "execution_count": 4,
     "metadata": {},
     "output_type": "execute_result"
    }
   ],
   "source": [
    "np.ptp(matrix_a)"
   ]
  },
  {
   "cell_type": "code",
   "execution_count": 5,
   "metadata": {},
   "outputs": [
    {
     "data": {
      "text/plain": [
       "array([3, 6, 6, 6, 9])"
      ]
     },
     "execution_count": 5,
     "metadata": {},
     "output_type": "execute_result"
    }
   ],
   "source": [
    "np.ptp(matrix_a, axis=0)"
   ]
  },
  {
   "cell_type": "code",
   "execution_count": 6,
   "metadata": {},
   "outputs": [
    {
     "data": {
      "text/plain": [
       "array([3, 7, 8])"
      ]
     },
     "execution_count": 6,
     "metadata": {},
     "output_type": "execute_result"
    }
   ],
   "source": [
    "np.ptp(matrix_a, axis=1)"
   ]
  },
  {
   "cell_type": "code",
   "execution_count": 9,
   "metadata": {},
   "outputs": [
    {
     "data": {
      "text/plain": [
       "array([0, 0, 0, 1, 1, 2, 3, 3, 3, 4, 5, 6, 6, 8, 9])"
      ]
     },
     "execution_count": 9,
     "metadata": {},
     "output_type": "execute_result"
    }
   ],
   "source": [
    "np.sort(matrix_a, axis=None)"
   ]
  },
  {
   "cell_type": "code",
   "execution_count": 28,
   "metadata": {},
   "outputs": [
    {
     "data": {
      "text/plain": [
       "4.799999999999999"
      ]
     },
     "execution_count": 28,
     "metadata": {},
     "output_type": "execute_result"
    }
   ],
   "source": [
    "np.percentile(matrix_a,70)"
   ]
  },
  {
   "cell_type": "code",
   "execution_count": 22,
   "metadata": {},
   "outputs": [],
   "source": [
    "import cv2, numpy"
   ]
  },
  {
   "cell_type": "code",
   "execution_count": 10,
   "metadata": {},
   "outputs": [
    {
     "name": "stdout",
     "output_type": "stream",
     "text": [
      "[[187 158 104 121 143]\n",
      " [198 125 255 255 147]\n",
      " [209 134 255  97 182]]\n"
     ]
    }
   ],
   "source": [
    "im_g=cv2.imread(\"../../Scaricati/smallgray.png\",0)\n",
    "print(im_g)"
   ]
  },
  {
   "cell_type": "code",
   "execution_count": 25,
   "metadata": {},
   "outputs": [
    {
     "name": "stdout",
     "output_type": "stream",
     "text": [
      "[[187 158 104 121 143]\n",
      " [198 125 255 255 147]\n",
      " [209 134 255  97 182]\n",
      " [187 158 104 121 143]\n",
      " [198 125 255 255 147]\n",
      " [209 134 255  97 182]]\n"
     ]
    }
   ],
   "source": [
    "ims = numpy.vstack((im_g,im_g))\n",
    "print(ims)"
   ]
  },
  {
   "cell_type": "code",
   "execution_count": 1,
   "metadata": {},
   "outputs": [],
   "source": [
    "from urllib.request import urlopen\n",
    "import json"
   ]
  },
  {
   "cell_type": "code",
   "execution_count": 2,
   "metadata": {},
   "outputs": [
    {
     "data": {
      "text/plain": [
       "<http.client.HTTPResponse at 0x7f2c1cac38b0>"
      ]
     },
     "execution_count": 2,
     "metadata": {},
     "output_type": "execute_result"
    }
   ],
   "source": [
    "url = 'https://www.data.qld.gov.au/api/3/action/datastore_search?resource_id=7afe7233-fae0-4024-bc98-3a72f05675bd&limit=5'\n",
    "urlresult = urlopen( url )\n",
    "urlresult"
   ]
  },
  {
   "cell_type": "code",
   "execution_count": 3,
   "metadata": {},
   "outputs": [
    {
     "data": {
      "text/plain": [
       "b'{\"help\": \"https://www.data.qld.gov.au/api/3/action/help_show?name=datastore_search\", \"success\": true, \"result\": {\"include_total\": true, \"limit\": 5, \"records_format\": \"objects\", \"resource_id\": \"7afe7233-fae0-4024-bc98-3a72f05675bd\", \"total_estimation_threshold\": null, \"records\": [{\"_id\":181389935,\"Site\":\"abellpoint\",\"Seconds\":\"1711202400\",\"DateTime\":\"2024-03-24T00:00\",\"Water Level\":\"2.261\",\"Prediction\":\"2.169\",\"Residual\":\"0.092\",\"Latitude\":\"-20.2608\",\"Longitude\":\"148.7103\"},{\"_id\":181389936,\"Site\":\"abellpoint\",\"Seconds\":\"1711203000\",\"DateTime\":\"2024-03-24T00:10\",\"Water Level\":\"2.181\",\"Prediction\":\"2.084\",\"Residual\":\"0.097\",\"Latitude\":\"-20.2608\",\"Longitude\":\"148.7103\"},{\"_id\":181389937,\"Site\":\"abellpoint\",\"Seconds\":\"1711203600\",\"DateTime\":\"2024-03-24T00:20\",\"Water Level\":\"2.093\",\"Prediction\":\"1.997\",\"Residual\":\"0.096\",\"Latitude\":\"-20.2608\",\"Longitude\":\"148.7103\"},{\"_id\":181389938,\"Site\":\"abellpoint\",\"Seconds\":\"1711204200\",\"DateTime\":\"2024-03-24T00:30\",\"Water Level\":\"1.977\",\"Prediction\":\"1.908\",\"Residual\":\"0.069\",\"Latitude\":\"-20.2608\",\"Longitude\":\"148.7103\"},{\"_id\":181389939,\"Site\":\"abellpoint\",\"Seconds\":\"1711204800\",\"DateTime\":\"2024-03-24T00:40\",\"Water Level\":\"1.889\",\"Prediction\":\"1.815\",\"Residual\":\"0.074\",\"Latitude\":\"-20.2608\",\"Longitude\":\"148.7103\"}], \"fields\": [{\"id\": \"_id\", \"type\": \"int\"}, {\"id\": \"Site\", \"type\": \"text\"}, {\"id\": \"Seconds\", \"type\": \"text\"}, {\"id\": \"DateTime\", \"type\": \"text\"}, {\"id\": \"Water Level\", \"type\": \"text\"}, {\"id\": \"Prediction\", \"type\": \"text\"}, {\"id\": \"Residual\", \"type\": \"text\"}, {\"id\": \"Latitude\", \"type\": \"text\"}, {\"id\": \"Longitude\", \"type\": \"text\"}], \"_links\": {\"start\": \"/api/3/action/datastore_search?limit=5&resource_id=7afe7233-fae0-4024-bc98-3a72f05675bd\", \"next\": \"/api/3/action/datastore_search?limit=5&resource_id=7afe7233-fae0-4024-bc98-3a72f05675bd&offset=5\"}, \"total\": 64721, \"total_was_estimated\": false}}'"
      ]
     },
     "execution_count": 3,
     "metadata": {},
     "output_type": "execute_result"
    }
   ],
   "source": [
    "raw_data = urlresult.read()\n",
    "raw_data"
   ]
  },
  {
   "cell_type": "code",
   "execution_count": 4,
   "metadata": {},
   "outputs": [
    {
     "data": {
      "text/plain": [
       "{'help': 'https://www.data.qld.gov.au/api/3/action/help_show?name=datastore_search',\n",
       " 'success': True,\n",
       " 'result': {'include_total': True,\n",
       "  'limit': 5,\n",
       "  'records_format': 'objects',\n",
       "  'resource_id': '7afe7233-fae0-4024-bc98-3a72f05675bd',\n",
       "  'total_estimation_threshold': None,\n",
       "  'records': [{'_id': 181389935,\n",
       "    'Site': 'abellpoint',\n",
       "    'Seconds': '1711202400',\n",
       "    'DateTime': '2024-03-24T00:00',\n",
       "    'Water Level': '2.261',\n",
       "    'Prediction': '2.169',\n",
       "    'Residual': '0.092',\n",
       "    'Latitude': '-20.2608',\n",
       "    'Longitude': '148.7103'},\n",
       "   {'_id': 181389936,\n",
       "    'Site': 'abellpoint',\n",
       "    'Seconds': '1711203000',\n",
       "    'DateTime': '2024-03-24T00:10',\n",
       "    'Water Level': '2.181',\n",
       "    'Prediction': '2.084',\n",
       "    'Residual': '0.097',\n",
       "    'Latitude': '-20.2608',\n",
       "    'Longitude': '148.7103'},\n",
       "   {'_id': 181389937,\n",
       "    'Site': 'abellpoint',\n",
       "    'Seconds': '1711203600',\n",
       "    'DateTime': '2024-03-24T00:20',\n",
       "    'Water Level': '2.093',\n",
       "    'Prediction': '1.997',\n",
       "    'Residual': '0.096',\n",
       "    'Latitude': '-20.2608',\n",
       "    'Longitude': '148.7103'},\n",
       "   {'_id': 181389938,\n",
       "    'Site': 'abellpoint',\n",
       "    'Seconds': '1711204200',\n",
       "    'DateTime': '2024-03-24T00:30',\n",
       "    'Water Level': '1.977',\n",
       "    'Prediction': '1.908',\n",
       "    'Residual': '0.069',\n",
       "    'Latitude': '-20.2608',\n",
       "    'Longitude': '148.7103'},\n",
       "   {'_id': 181389939,\n",
       "    'Site': 'abellpoint',\n",
       "    'Seconds': '1711204800',\n",
       "    'DateTime': '2024-03-24T00:40',\n",
       "    'Water Level': '1.889',\n",
       "    'Prediction': '1.815',\n",
       "    'Residual': '0.074',\n",
       "    'Latitude': '-20.2608',\n",
       "    'Longitude': '148.7103'}],\n",
       "  'fields': [{'id': '_id', 'type': 'int'},\n",
       "   {'id': 'Site', 'type': 'text'},\n",
       "   {'id': 'Seconds', 'type': 'text'},\n",
       "   {'id': 'DateTime', 'type': 'text'},\n",
       "   {'id': 'Water Level', 'type': 'text'},\n",
       "   {'id': 'Prediction', 'type': 'text'},\n",
       "   {'id': 'Residual', 'type': 'text'},\n",
       "   {'id': 'Latitude', 'type': 'text'},\n",
       "   {'id': 'Longitude', 'type': 'text'}],\n",
       "  '_links': {'start': '/api/3/action/datastore_search?limit=5&resource_id=7afe7233-fae0-4024-bc98-3a72f05675bd',\n",
       "   'next': '/api/3/action/datastore_search?limit=5&resource_id=7afe7233-fae0-4024-bc98-3a72f05675bd&offset=5'},\n",
       "  'total': 64721,\n",
       "  'total_was_estimated': False}}"
      ]
     },
     "execution_count": 4,
     "metadata": {},
     "output_type": "execute_result"
    }
   ],
   "source": [
    "json_data = json.loads( raw_data )\n",
    "json_data"
   ]
  },
  {
   "cell_type": "code",
   "execution_count": 6,
   "metadata": {},
   "outputs": [
    {
     "name": "stdout",
     "output_type": "stream",
     "text": [
      "{\"help\": \"https://www.data.qld.gov.au/api/3/action/help_show?name=datastore_search\", \"success\": true, \"result\": {\"include_total\": true, \"limit\": 5, \"records_format\": \"objects\", \"resource_id\": \"7afe7233-fae0-4024-bc98-3a72f05675bd\", \"total_estimation_threshold\": null, \"records\": [{\"_id\": 181389935, \"Site\": \"abellpoint\", \"Seconds\": \"1711202400\", \"DateTime\": \"2024-03-24T00:00\", \"Water Level\": \"2.261\", \"Prediction\": \"2.169\", \"Residual\": \"0.092\", \"Latitude\": \"-20.2608\", \"Longitude\": \"148.7103\"}, {\"_id\": 181389936, \"Site\": \"abellpoint\", \"Seconds\": \"1711203000\", \"DateTime\": \"2024-03-24T00:10\", \"Water Level\": \"2.181\", \"Prediction\": \"2.084\", \"Residual\": \"0.097\", \"Latitude\": \"-20.2608\", \"Longitude\": \"148.7103\"}, {\"_id\": 181389937, \"Site\": \"abellpoint\", \"Seconds\": \"1711203600\", \"DateTime\": \"2024-03-24T00:20\", \"Water Level\": \"2.093\", \"Prediction\": \"1.997\", \"Residual\": \"0.096\", \"Latitude\": \"-20.2608\", \"Longitude\": \"148.7103\"}, {\"_id\": 181389938, \"Site\": \"abellpoint\", \"Seconds\": \"1711204200\", \"DateTime\": \"2024-03-24T00:30\", \"Water Level\": \"1.977\", \"Prediction\": \"1.908\", \"Residual\": \"0.069\", \"Latitude\": \"-20.2608\", \"Longitude\": \"148.7103\"}, {\"_id\": 181389939, \"Site\": \"abellpoint\", \"Seconds\": \"1711204800\", \"DateTime\": \"2024-03-24T00:40\", \"Water Level\": \"1.889\", \"Prediction\": \"1.815\", \"Residual\": \"0.074\", \"Latitude\": \"-20.2608\", \"Longitude\": \"148.7103\"}], \"fields\": [{\"id\": \"_id\", \"type\": \"int\"}, {\"id\": \"Site\", \"type\": \"text\"}, {\"id\": \"Seconds\", \"type\": \"text\"}, {\"id\": \"DateTime\", \"type\": \"text\"}, {\"id\": \"Water Level\", \"type\": \"text\"}, {\"id\": \"Prediction\", \"type\": \"text\"}, {\"id\": \"Residual\", \"type\": \"text\"}, {\"id\": \"Latitude\", \"type\": \"text\"}, {\"id\": \"Longitude\", \"type\": \"text\"}], \"_links\": {\"start\": \"/api/3/action/datastore_search?limit=5&resource_id=7afe7233-fae0-4024-bc98-3a72f05675bd\", \"next\": \"/api/3/action/datastore_search?limit=5&resource_id=7afe7233-fae0-4024-bc98-3a72f05675bd&offset=5\"}, \"total\": 64721, \"total_was_estimated\": false}}\n"
     ]
    }
   ],
   "source": [
    "# covert to string to print in a compact format\n",
    "json_string = json.dumps( json_data)\n",
    "print( json_string)"
   ]
  },
  {
   "cell_type": "code",
   "execution_count": 25,
   "metadata": {},
   "outputs": [
    {
     "data": {
      "text/plain": [
       "{'_id': 181389935,\n",
       " 'Site': 'abellpoint',\n",
       " 'Seconds': '1711202400',\n",
       " 'DateTime': '2024-03-24T00:00',\n",
       " 'Water Level': '2.261',\n",
       " 'Prediction': '2.169',\n",
       " 'Residual': '0.092',\n",
       " 'Latitude': '-20.2608',\n",
       " 'Longitude': '148.7103'}"
      ]
     },
     "execution_count": 25,
     "metadata": {},
     "output_type": "execute_result"
    }
   ],
   "source": [
    "records = json_data['result']['records']\n",
    "first_record = records[0]\n",
    "first_record"
   ]
  },
  {
   "cell_type": "code",
   "execution_count": 27,
   "metadata": {},
   "outputs": [
    {
     "name": "stdout",
     "output_type": "stream",
     "text": [
      "abellpoint\n",
      "0.092\n"
     ]
    }
   ],
   "source": [
    "site = first_record['Site']\n",
    "dateTime = first_record['DateTime']\n",
    "waterLevel = first_record['Water Level']\n",
    "prediction = first_record['Prediction']\n",
    "residual = first_record['Residual']\n",
    "print(site)\n",
    "print(residual)"
   ]
  },
  {
   "cell_type": "code",
   "execution_count": 29,
   "metadata": {},
   "outputs": [
    {
     "name": "stdout",
     "output_type": "stream",
     "text": [
      "[['abellpoint', '2024-03-24T00:00', '2.261', '2.169', '0.092'], ['abellpoint', '2024-03-24T00:00', '2.261', '2.169', '0.092'], ['abellpoint', '2024-03-24T00:00', '2.261', '2.169', '0.092'], ['abellpoint', '2024-03-24T00:00', '2.261', '2.169', '0.092'], ['abellpoint', '2024-03-24T00:00', '2.261', '2.169', '0.092']]\n"
     ]
    }
   ],
   "source": [
    "# Create a list with the desired data points per every record:\n",
    "records_data = []\n",
    "for record in records:\n",
    "    recordData = [\n",
    "            first_record['Site'],\n",
    "            first_record['DateTime'],\n",
    "            first_record['Water Level'],\n",
    "            first_record['Prediction'],\n",
    "            first_record['Residual']        \n",
    "    ]\n",
    "    records_data.append( recordData)\n",
    "\n",
    "print( records_data)\n"
   ]
  },
  {
   "cell_type": "code",
   "execution_count": 17,
   "metadata": {},
   "outputs": [],
   "source": [
    "matr = [[11,2,4],[4,5,6],[10,8,-12]]\n",
    "matr4 = [[11,2,4,5],[4,9,5,6],[10,19,8,-12],[77,-59,18,52]]\n",
    "\n",
    "def diagonalDifference(arr):\n",
    "    # Write your code here\n",
    "    diag1 = arr[0][0] + arr[1][1] + arr[2][2]\n",
    "    diag2 = arr[0][2] + arr[1][1] + arr[2][0]\n",
    "    diff = abs(diag1 - diag2)\n",
    "    return diff"
   ]
  },
  {
   "cell_type": "code",
   "execution_count": 18,
   "metadata": {},
   "outputs": [
    {
     "data": {
      "text/plain": [
       "4"
      ]
     },
     "execution_count": 18,
     "metadata": {},
     "output_type": "execute_result"
    }
   ],
   "source": [
    "len(matr4)"
   ]
  },
  {
   "cell_type": "code",
   "execution_count": 13,
   "metadata": {},
   "outputs": [
    {
     "data": {
      "text/plain": [
       "15"
      ]
     },
     "execution_count": 13,
     "metadata": {},
     "output_type": "execute_result"
    }
   ],
   "source": [
    "diagonalDifference(matr)"
   ]
  },
  {
   "cell_type": "code",
   "execution_count": 20,
   "metadata": {},
   "outputs": [
    {
     "data": {
      "text/plain": [
       "4"
      ]
     },
     "execution_count": 20,
     "metadata": {},
     "output_type": "execute_result"
    }
   ],
   "source": [
    "def test(arr):\n",
    "    diag1 = 0\n",
    "    for i in range(0,len(arr)):\n",
    "        diag1+=arr[i][i]\n",
    "    diag2 = 0\n",
    "    for i in range(0,len(arr)):\n",
    "        diag2+=arr[i][-(i+1)]\n",
    "    diff = diag1 - diag2\n",
    "    return abs(diff)\n",
    "\n",
    "test(matr)\n",
    "\n"
   ]
  },
  {
   "cell_type": "code",
   "execution_count": 21,
   "metadata": {},
   "outputs": [
    {
     "data": {
      "text/plain": [
       "[[11, 2, 4, 5], [4, 9, 5, 6], [10, 19, 8, -12], [77, -59, 18, 52]]"
      ]
     },
     "execution_count": 21,
     "metadata": {},
     "output_type": "execute_result"
    }
   ],
   "source": [
    "matr4"
   ]
  },
  {
   "cell_type": "code",
   "execution_count": 26,
   "metadata": {},
   "outputs": [
    {
     "data": {
      "text/plain": [
       "5"
      ]
     },
     "execution_count": 26,
     "metadata": {},
     "output_type": "execute_result"
    }
   ],
   "source": [
    "matr4[0][-(0+1)]"
   ]
  },
  {
   "cell_type": "code",
   "execution_count": 28,
   "metadata": {},
   "outputs": [
    {
     "data": {
      "text/plain": [
       "19"
      ]
     },
     "execution_count": 28,
     "metadata": {},
     "output_type": "execute_result"
    }
   ],
   "source": [
    "matr4[2][-(2+1)]"
   ]
  },
  {
   "cell_type": "code",
   "execution_count": 11,
   "metadata": {},
   "outputs": [
    {
     "data": {
      "text/plain": [
       "15"
      ]
     },
     "execution_count": 11,
     "metadata": {},
     "output_type": "execute_result"
    }
   ],
   "source": [
    "diff"
   ]
  },
  {
   "cell_type": "code",
   "execution_count": 3,
   "metadata": {},
   "outputs": [
    {
     "name": "stdout",
     "output_type": "stream",
     "text": [
      "0.4\n",
      "0.2\n",
      "0.4\n"
     ]
    }
   ],
   "source": [
    "mialista = [1,1,0,-1,-1]\n",
    "\n",
    "neg = 0\n",
    "pos = 0\n",
    "zer = 0\n",
    "for el in mialista:\n",
    "    if el < 0:\n",
    "        neg += 1\n",
    "    elif el == 0:\n",
    "        zer += 1\n",
    "    elif el > 0:\n",
    "        pos += 1\n",
    "\n",
    "print(str(round(neg/len(mialista),6)))\n",
    "print(zer/len(mialista))\n",
    "print(pos/len(mialista))"
   ]
  },
  {
   "cell_type": "code",
   "execution_count": 20,
   "metadata": {},
   "outputs": [],
   "source": [
    "import pandas as pd\n",
    "import numpy as np"
   ]
  },
  {
   "cell_type": "code",
   "execution_count": 13,
   "metadata": {},
   "outputs": [],
   "source": [
    "df1 = pd.DataFrame([[1,2,3],[4,5,6]],['ind1','ind2'],['pippo','paperotta','topa pelosa'])"
   ]
  },
  {
   "cell_type": "code",
   "execution_count": 14,
   "metadata": {},
   "outputs": [
    {
     "data": {
      "text/html": [
       "<div>\n",
       "<style scoped>\n",
       "    .dataframe tbody tr th:only-of-type {\n",
       "        vertical-align: middle;\n",
       "    }\n",
       "\n",
       "    .dataframe tbody tr th {\n",
       "        vertical-align: top;\n",
       "    }\n",
       "\n",
       "    .dataframe thead th {\n",
       "        text-align: right;\n",
       "    }\n",
       "</style>\n",
       "<table border=\"1\" class=\"dataframe\">\n",
       "  <thead>\n",
       "    <tr style=\"text-align: right;\">\n",
       "      <th></th>\n",
       "      <th>pippo</th>\n",
       "      <th>paperotta</th>\n",
       "      <th>topa pelosa</th>\n",
       "    </tr>\n",
       "  </thead>\n",
       "  <tbody>\n",
       "    <tr>\n",
       "      <th>ind1</th>\n",
       "      <td>1</td>\n",
       "      <td>2</td>\n",
       "      <td>3</td>\n",
       "    </tr>\n",
       "    <tr>\n",
       "      <th>ind2</th>\n",
       "      <td>4</td>\n",
       "      <td>5</td>\n",
       "      <td>6</td>\n",
       "    </tr>\n",
       "  </tbody>\n",
       "</table>\n",
       "</div>"
      ],
      "text/plain": [
       "      pippo  paperotta  topa pelosa\n",
       "ind1      1          2            3\n",
       "ind2      4          5            6"
      ]
     },
     "execution_count": 14,
     "metadata": {},
     "output_type": "execute_result"
    }
   ],
   "source": [
    "df1"
   ]
  },
  {
   "cell_type": "code",
   "execution_count": 29,
   "metadata": {},
   "outputs": [],
   "source": [
    "seria = np.array([[1,2,3],[4,5,6]])\n",
    "seria2 = np.array([[5,6,7],[4,5,6]])"
   ]
  },
  {
   "cell_type": "code",
   "execution_count": 30,
   "metadata": {},
   "outputs": [
    {
     "data": {
      "text/plain": [
       "array([[4, 4, 4],\n",
       "       [0, 0, 0]])"
      ]
     },
     "execution_count": 30,
     "metadata": {},
     "output_type": "execute_result"
    }
   ],
   "source": [
    "seria2 - seria"
   ]
  },
  {
   "cell_type": "code",
   "execution_count": 31,
   "metadata": {},
   "outputs": [
    {
     "data": {
      "text/plain": [
       "np.int64(12)"
      ]
     },
     "execution_count": 31,
     "metadata": {},
     "output_type": "execute_result"
    }
   ],
   "source": [
    "np.sum(seria2 - seria)"
   ]
  },
  {
   "cell_type": "code",
   "execution_count": 32,
   "metadata": {},
   "outputs": [
    {
     "data": {
      "text/plain": [
       "range(0, 4)"
      ]
     },
     "execution_count": 32,
     "metadata": {},
     "output_type": "execute_result"
    }
   ],
   "source": [
    "range(0,4)"
   ]
  },
  {
   "cell_type": "code",
   "execution_count": 33,
   "metadata": {},
   "outputs": [
    {
     "data": {
      "text/plain": [
       "[0, 1, 2, 3]"
      ]
     },
     "execution_count": 33,
     "metadata": {},
     "output_type": "execute_result"
    }
   ],
   "source": [
    "list(range(0,4))"
   ]
  },
  {
   "cell_type": "code",
   "execution_count": 34,
   "metadata": {},
   "outputs": [],
   "source": [
    "import random"
   ]
  },
  {
   "cell_type": "code",
   "execution_count": 39,
   "metadata": {},
   "outputs": [
    {
     "ename": "ValueError",
     "evalue": "empty range in randrange(5, 2)",
     "output_type": "error",
     "traceback": [
      "\u001b[0;31m---------------------------------------------------------------------------\u001b[0m",
      "\u001b[0;31mValueError\u001b[0m                                Traceback (most recent call last)",
      "Cell \u001b[0;32mIn[39], line 1\u001b[0m\n\u001b[0;32m----> 1\u001b[0m \u001b[43mrandom\u001b[49m\u001b[38;5;241;43m.\u001b[39;49m\u001b[43mrandint\u001b[49m\u001b[43m(\u001b[49m\u001b[38;5;241;43m5\u001b[39;49m\u001b[43m,\u001b[49m\u001b[38;5;241;43m1\u001b[39;49m\u001b[43m)\u001b[49m\n",
      "File \u001b[0;32m/usr/lib/python3.12/random.py:336\u001b[0m, in \u001b[0;36mRandom.randint\u001b[0;34m(self, a, b)\u001b[0m\n\u001b[1;32m    332\u001b[0m \u001b[38;5;28;01mdef\u001b[39;00m \u001b[38;5;21mrandint\u001b[39m(\u001b[38;5;28mself\u001b[39m, a, b):\n\u001b[1;32m    333\u001b[0m \u001b[38;5;250m    \u001b[39m\u001b[38;5;124;03m\"\"\"Return random integer in range [a, b], including both end points.\u001b[39;00m\n\u001b[1;32m    334\u001b[0m \u001b[38;5;124;03m    \"\"\"\u001b[39;00m\n\u001b[0;32m--> 336\u001b[0m     \u001b[38;5;28;01mreturn\u001b[39;00m \u001b[38;5;28;43mself\u001b[39;49m\u001b[38;5;241;43m.\u001b[39;49m\u001b[43mrandrange\u001b[49m\u001b[43m(\u001b[49m\u001b[43ma\u001b[49m\u001b[43m,\u001b[49m\u001b[43m \u001b[49m\u001b[43mb\u001b[49m\u001b[38;5;241;43m+\u001b[39;49m\u001b[38;5;241;43m1\u001b[39;49m\u001b[43m)\u001b[49m\n",
      "File \u001b[0;32m/usr/lib/python3.12/random.py:319\u001b[0m, in \u001b[0;36mRandom.randrange\u001b[0;34m(self, start, stop, step)\u001b[0m\n\u001b[1;32m    317\u001b[0m     \u001b[38;5;28;01mif\u001b[39;00m width \u001b[38;5;241m>\u001b[39m \u001b[38;5;241m0\u001b[39m:\n\u001b[1;32m    318\u001b[0m         \u001b[38;5;28;01mreturn\u001b[39;00m istart \u001b[38;5;241m+\u001b[39m \u001b[38;5;28mself\u001b[39m\u001b[38;5;241m.\u001b[39m_randbelow(width)\n\u001b[0;32m--> 319\u001b[0m     \u001b[38;5;28;01mraise\u001b[39;00m \u001b[38;5;167;01mValueError\u001b[39;00m(\u001b[38;5;124mf\u001b[39m\u001b[38;5;124m\"\u001b[39m\u001b[38;5;124mempty range in randrange(\u001b[39m\u001b[38;5;132;01m{\u001b[39;00mstart\u001b[38;5;132;01m}\u001b[39;00m\u001b[38;5;124m, \u001b[39m\u001b[38;5;132;01m{\u001b[39;00mstop\u001b[38;5;132;01m}\u001b[39;00m\u001b[38;5;124m)\u001b[39m\u001b[38;5;124m\"\u001b[39m)\n\u001b[1;32m    321\u001b[0m \u001b[38;5;66;03m# Non-unit step argument supplied.\u001b[39;00m\n\u001b[1;32m    322\u001b[0m \u001b[38;5;28;01mif\u001b[39;00m istep \u001b[38;5;241m>\u001b[39m \u001b[38;5;241m0\u001b[39m:\n",
      "\u001b[0;31mValueError\u001b[0m: empty range in randrange(5, 2)"
     ]
    }
   ],
   "source": [
    "random.randint(5,1)"
   ]
  },
  {
   "cell_type": "code",
   "execution_count": null,
   "metadata": {},
   "outputs": [],
   "source": []
  }
 ],
 "metadata": {
  "kernelspec": {
   "display_name": "shiny_dash_venv",
   "language": "python",
   "name": "python3"
  },
  "language_info": {
   "codemirror_mode": {
    "name": "ipython",
    "version": 3
   },
   "file_extension": ".py",
   "mimetype": "text/x-python",
   "name": "python",
   "nbconvert_exporter": "python",
   "pygments_lexer": "ipython3",
   "version": "3.12.7"
  }
 },
 "nbformat": 4,
 "nbformat_minor": 4
}
